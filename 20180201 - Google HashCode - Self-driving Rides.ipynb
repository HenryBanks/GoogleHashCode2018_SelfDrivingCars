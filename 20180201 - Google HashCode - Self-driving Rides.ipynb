{
 "cells": [
  {
   "cell_type": "markdown",
   "metadata": {},
   "source": [
    "# Google HashCode - Self-driving Rides\n",
    "_By Duncan Lindsey_\n",
    "## 1. Problem Statement\n",
    "### Introduction\n",
    "Millions of people commute by car every day; for example, to school or to their workplace.\n",
    "Self-driving vehicles are an exciting development for transportation. They aim to make traveling by car safer\n",
    "and more available while also saving commuters time.\n",
    "\n",
    "In this competition problem, we’ll be looking at how a fleet of self-driving vehicles can efficiently get\n",
    "commuters to their destinations in a simulated city.\n",
    "### Task\n",
    "Given a list of pre-booked rides in a city and a fleet of self-driving vehicles, assign the rides to vehicles, so\n",
    "that riders get to their destinations on time.\n",
    "\n",
    "For every ride that finishes on time (or early), you will earn points proportional to the distance of that ride;\n",
    "plus an additional bonus if the ride also started precisely on time.\n",
    "### Problem\n",
    "#### Map\n",
    "The city is represented by a rectangular grid of streets, with R horizontal streets (rows) and C vertical\n",
    "streets (columns). Street intersections are referenced by integer, 0-based coordinates of the horizontal and\n",
    "the vertical street. For example, [r, c] means the intersection of the r-th horizontal and the c-th vertical\n",
    "street ( 0 ≤ r < R, 0 ≤ c < C ).\n",
    "#### Vehicles\n",
    "There are F vehicles in the fleet. At the beginning of the simulation, all vehicles are in the intersection [0, 0].\n",
    "There is no limit to how many vehicles can be in the same intersection.\n",
    "#### Time and distance\n",
    "The simulation proceeds in T steps, from 0 to T − 1.\n",
    "\n",
    "The distance between two intersections is defined as the minimum total number of city blocks (cells in the\n",
    "grid) that a vehicle has to pass in each direction to get from one intersection to the other. That is, the\n",
    "distance between intersection [a, b] and intersection [x, y] is equal to |a − x| + |b − y|.\n",
    "\n",
    "The number of steps required to drive between two intersections is equal to the distance between them.\n",
    "#### Rides\n",
    "There are N pre-booked rides.\n",
    "\n",
    "Each ride is characterized by the following information:\n",
    "- __start intersection__ – to begin the ride, the vehicle must be in this intersection.\n",
    "- __finish intersection__ – to end the ride, the vehicle must be in this intersection. Finish intersection is always different than start intersection.\n",
    "- __earliest start__ – the earliest step in which the ride can start. It can also start at any later step.\n",
    "- __latest finish__ – the latest step by which the ride must finish to get points for it.\n",
    "    - Note that the given “latest finish” step is the step in which the ride must already be over (and not the last step in which the vehicle moves) – see example below.\n",
    "\n",
    "<div class=\"alert alert-block alert-warning\">For example, let’s consider a ride with distance 3, earliest start 0 and latest finish 3. If a vehicle starts the ride at step 0, the vehicle arrives on time (the vehicle travels at steps 0, 1, 2). If the vehicle starts the ride at step 1, it does not arrive on time.</div>\n",
    "\n",
    "You must decide which of the rides each vehicle will handle, and in what order.\n",
    "#### Simulation\n",
    "Each vehicle makes the rides you assign to it in the order that you specify:\n",
    "- first, the vehicle drives from its current intersection ([0,0] at the beginning of the simulation) to the start intersection of the next ride (unless the vehicle is already in this intersection)\n",
    "- then, if the current step is earlier than the earliest start of the next ride, the vehicle waits until that step\n",
    "- then, the vehicle drives to the finish intersection\n",
    "    - the vehicle does this even if the arrival step is later than the latest finish; but no points are earned by such a ride\n",
    "- then, the process repeats for the next assigned ride, until the vehicle handles all scheduled rides or the simulation reaches its final step T (whichever comes first)\n",
    "- any remaining assigned rides are simply ignored\n",
    "\n",
    "<div class=\"alert alert-block alert-warning\">For example, if a vehicle is assigned to handle a single ride of the following parameters: start intersection [1, 2], finish intersection [1, 4], earliest start 5, latest finish 8, then the simulation proceeds as follows: in steps 0, 1 and 2 the vehicle drives to [1, 2], in steps 3 and 4 the vehicle waits until the earliest start in step 5, in steps 5 and 6 the vehicle drives to the finish intersection, in step 7 the ride is finished, one step before the deadline</div>\n",
    "\n",
    "Whenever a vehicle is moving between intersections, it is making at most one ride. (In this simulation we’re\n",
    "not considering pooling multiple rides at the same time in a single vehicle.) A vehicle can start a new ride in\n",
    "the same step in which the previous ride is finished, if the new ride starts in the same intersection that the\n",
    "previous ride finished in.\n",
    "\n",
    "<div class=\"alert alert-block alert-warning\">For example, let’s consider a ride with distance 3, earliest start 0 and latest finish 3. If a vehicle starts a ride at step 0, it travels at steps 0, 1 and 2. In step 3 the ride is finished and it is allowed to start a new ride in step 3.</div>\n",
    "\n",
    "## 2. Data Understanding\n",
    "### Import Libraries\n",
    "Import saved functions and 3rd party classes"
   ]
  },
  {
   "cell_type": "code",
   "execution_count": 1,
   "metadata": {},
   "outputs": [],
   "source": [
    "import scipy, math, numpy, pandas\n",
    "import matplotlib as mpl\n",
    "import matplotlib.pyplot as plt\n",
    "import matplotlib.pylab as pylab\n",
    "import seaborn as sns\n",
    "\n",
    "# Custom .py files\n",
    "import RideAllocator"
   ]
  },
  {
   "cell_type": "markdown",
   "metadata": {},
   "source": [
    "### Administrative Functions\n",
    "Helper functions have been defined in the HelperFunctions.py file\n",
    "### Load Data"
   ]
  },
  {
   "cell_type": "code",
   "execution_count": 3,
   "metadata": {},
   "outputs": [
    {
     "ename": "NameError",
     "evalue": "name 'RideOrderBook' is not defined",
     "output_type": "error",
     "traceback": [
      "\u001b[1;31m---------------------------------------------------------------------------\u001b[0m",
      "\u001b[1;31mNameError\u001b[0m                                 Traceback (most recent call last)",
      "\u001b[1;32m<ipython-input-3-4b6c333413a2>\u001b[0m in \u001b[0;36m<module>\u001b[1;34m()\u001b[0m\n\u001b[1;32m----> 1\u001b[1;33m \u001b[0msimulationData\u001b[0m \u001b[1;33m=\u001b[0m \u001b[0mRideOrderBook\u001b[0m\u001b[1;33m(\u001b[0m\u001b[1;34m'a'\u001b[0m\u001b[1;33m)\u001b[0m\u001b[1;33m\u001b[0m\u001b[0m\n\u001b[0m\u001b[0;32m      2\u001b[0m \u001b[0msimulation\u001b[0m \u001b[1;33m=\u001b[0m \u001b[0mSimulation\u001b[0m\u001b[1;33m(\u001b[0m\u001b[0msimulationData\u001b[0m\u001b[1;33m)\u001b[0m\u001b[1;33m\u001b[0m\u001b[0m\n",
      "\u001b[1;31mNameError\u001b[0m: name 'RideOrderBook' is not defined"
     ]
    }
   ],
   "source": [
    "simulationData = RideOrderBook('a')\n",
    "simulation = Simulation(simulationData)"
   ]
  }
 ],
 "metadata": {
  "kernelspec": {
   "display_name": "Python 3",
   "language": "python",
   "name": "python3"
  },
  "language_info": {
   "codemirror_mode": {
    "name": "ipython",
    "version": 3
   },
   "file_extension": ".py",
   "mimetype": "text/x-python",
   "name": "python",
   "nbconvert_exporter": "python",
   "pygments_lexer": "ipython3",
   "version": "3.6.4"
  }
 },
 "nbformat": 4,
 "nbformat_minor": 2
}
